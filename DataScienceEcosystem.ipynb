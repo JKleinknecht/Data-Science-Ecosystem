{
 "cells": [
  {
   "cell_type": "markdown",
   "id": "03e68139-2f2a-4b54-9abe-a8a30c095661",
   "metadata": {},
   "source": [
    "# Data Science Tools and Ecosystem"
   ]
  },
  {
   "cell_type": "markdown",
   "id": "3b1d3d18-7148-40eb-8557-b84a4119df4f",
   "metadata": {},
   "source": [
    "In this notebook, data science tools and ecosystems are summarized."
   ]
  },
  {
   "cell_type": "markdown",
   "id": "cafa18a8-8133-4a92-beda-effc5242c256",
   "metadata": {},
   "source": [
    "Objectives\n",
    "\n",
    "*  List popular languages for data science.\n",
    "*  List popular tools for data science.\n",
    "*  Evaluate advantages and disadvantages of various data science tools and languages.\n",
    "*  Learn basic commands in Python.\n",
    "*  Learn basic commands in R."
   ]
  },
  {
   "cell_type": "markdown",
   "id": "793f98dc-b75e-4a90-8408-9af4044eb1c6",
   "metadata": {},
   "source": [
    "Some of the most popular programming languages that data scientists use are:\n",
    "1. Python\n",
    "2. R\n",
    "3. C++"
   ]
  },
  {
   "cell_type": "markdown",
   "id": "14583235-f7b3-45b8-ab3a-58096c76861b",
   "metadata": {},
   "source": [
    "Some of the commonly used libraries used by data scientists are:\n",
    "1. Pandas\n",
    "2. Matplotlib\n",
    "3. PyTorch\n",
    "\n",
    "    "
   ]
  },
  {
   "cell_type": "markdown",
   "id": "69b94672-c7b1-422c-81ee-85c91f179389",
   "metadata": {},
   "source": [
    "| Data Science Tools |\n",
    "| ------------------- |\n",
    "| Apache Hadoop      |\n",
    "| RStudio             |\n",
    "| Apache Spark        |\n"
   ]
  },
  {
   "cell_type": "markdown",
   "id": "f4c6301e-ed72-4a08-b24d-4bf98c1148a0",
   "metadata": {},
   "source": [
    "### Below are a few examples of evaluating arithmetic expressions in Python"
   ]
  },
  {
   "cell_type": "code",
   "execution_count": 4,
   "id": "030ec588-d483-4822-ba01-781508e3de0a",
   "metadata": {
    "tags": []
   },
   "outputs": [
    {
     "data": {
      "text/plain": [
       "17"
      ]
     },
     "execution_count": 4,
     "metadata": {},
     "output_type": "execute_result"
    }
   ],
   "source": [
    "#This is a simple arithmetic expression to multiply then add integers:\n",
    "(3*4)+5"
   ]
  },
  {
   "cell_type": "code",
   "execution_count": 5,
   "id": "d1bb1867-2549-41b7-8146-56d7a890043e",
   "metadata": {
    "tags": []
   },
   "outputs": [
    {
     "data": {
      "text/plain": [
       "3.3333333333333335"
      ]
     },
     "execution_count": 5,
     "metadata": {},
     "output_type": "execute_result"
    }
   ],
   "source": [
    "#This will convert 200 minutes to hours by dividing by 60:\n",
    "200/60"
   ]
  },
  {
   "cell_type": "markdown",
   "id": "6f8f3f6c-79ab-4f60-b3f6-6dcb20a853a9",
   "metadata": {},
   "source": [
    "## Author\n",
    "Johannes Kleinknecht"
   ]
  },
  {
   "cell_type": "code",
   "execution_count": null,
   "id": "e95b1e0c-2b3c-4c31-9872-130d738f78cf",
   "metadata": {},
   "outputs": [],
   "source": []
  }
 ],
 "metadata": {
  "kernelspec": {
   "display_name": "Python",
   "language": "python",
   "name": "conda-env-python-py"
  },
  "language_info": {
   "codemirror_mode": {
    "name": "ipython",
    "version": 3
   },
   "file_extension": ".py",
   "mimetype": "text/x-python",
   "name": "python",
   "nbconvert_exporter": "python",
   "pygments_lexer": "ipython3",
   "version": "3.7.12"
  }
 },
 "nbformat": 4,
 "nbformat_minor": 5
}
